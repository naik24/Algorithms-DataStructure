{
 "cells": [
  {
   "cell_type": "markdown",
   "id": "1caf1ecf",
   "metadata": {},
   "source": [
    "## Strings\n",
    "\n",
    "- Strings are represented as character arrays in C/C++\n",
    "- To find the length of a string, we need to update the length counter by 1 until we reach the '\\0' character\n",
    "- To change the case of a string, we can make use of the ASCII codes of the letters. A capital letter and its corresponding small letter have a difference of 32\n",
    "- "
   ]
  }
 ],
 "metadata": {
  "kernelspec": {
   "display_name": "Python 3 (ipykernel)",
   "language": "python",
   "name": "python3"
  },
  "language_info": {
   "codemirror_mode": {
    "name": "ipython",
    "version": 3
   },
   "file_extension": ".py",
   "mimetype": "text/x-python",
   "name": "python",
   "nbconvert_exporter": "python",
   "pygments_lexer": "ipython3",
   "version": "3.9.12"
  }
 },
 "nbformat": 4,
 "nbformat_minor": 5
}

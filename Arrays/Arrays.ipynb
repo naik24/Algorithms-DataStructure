{
 "cells": [
  {
   "cell_type": "markdown",
   "id": "105aa378",
   "metadata": {},
   "source": [
    "## Array ADT\n",
    "\n",
    "#### Adding/Appending element to the array: O(1)\n",
    "- A new element will be added at the end of the array\n",
    "\n",
    "#### Inserting element in the array at a given index: O(n)\n",
    "- Inserting an element at a given index in the array requires shifting elements from the given index till the last position\n",
    "- Starting a pointer at the \"length + 1\" position, we need to shift each element towards the right till a space is available for the new element\n",
    "\n",
    "#### Deleting element from the array: O(n)\n",
    "- Once we delete an element from the given index, the next step is to shift data from the right of that index since we don't want that index to be left empty\n",
    "- One thing to note here is that here while shifting elements, the pointer should go only till the second last element since the length of the array is now one less than it was before\n",
    "\n",
    "#### Searching an element in the array\n",
    "\n",
    "- Linear Search O(n)\n",
    "    - Linear Search involves starting from the first element of the array and traversing till we find the element we are looking for\n",
    "    - One of the ways of improving linear search is to bring an element close to the start of the array every time it is searched for. This way, the most searched element will be available at the start of the array. This method is called Transposition\n",
    "    - Another method of making search easy is to \"Move to Front\" method. In this, the element which is searched for is swapped with the first element of the array\n",
    " \n",
    "- Binary Search O(log n)\n",
    "    - The condition for binary search is that the array needs to be sorted\n",
    "    - The algorithm will search for an element in the middle of an array. If the desired element is less than the middle element, it will look on the left of the middle element, else it will look on the right of the middle element"
   ]
  }
 ],
 "metadata": {
  "kernelspec": {
   "display_name": "Python 3 (ipykernel)",
   "language": "python",
   "name": "python3"
  },
  "language_info": {
   "codemirror_mode": {
    "name": "ipython",
    "version": 3
   },
   "file_extension": ".py",
   "mimetype": "text/x-python",
   "name": "python",
   "nbconvert_exporter": "python",
   "pygments_lexer": "ipython3",
   "version": "3.9.12"
  }
 },
 "nbformat": 4,
 "nbformat_minor": 5
}

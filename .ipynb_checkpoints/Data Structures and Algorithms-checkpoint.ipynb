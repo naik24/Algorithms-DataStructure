{
 "cells": [
  {
   "cell_type": "markdown",
   "id": "889daf78",
   "metadata": {},
   "source": [
    "<h1><center>Data Structures and Algorithms</center></h1>\n",
    "\n",
    "- **Data Structure**: A data structure is a data organization, management, and storage format that is chosedn for efficient access to data\n",
    "\n",
    "- **Algorithms**: An algorithm is a finite sequence of instructions for efficiently solving the problem at hand"
   ]
  },
  {
   "cell_type": "markdown",
   "id": "90c589cf",
   "metadata": {},
   "source": [
    "<h2><center>Essential C++ Concepts</center></h2>\n",
    "\n",
    "### Arrays\n",
    "Array is a collection of similar data elements. When an array is declared, a block of memory in the stack of main memory is allocated to it\n",
    "\n",
    "```\n",
    "#include <iostream>\n",
    "\n",
    "using namespace std;\n",
    "\n",
    "int main()\n",
    "{\n",
    "    // declaring an array\n",
    "    int A[5];\n",
    "    int B[5] = {2, 4, 6, 8, 10};\n",
    "\n",
    "    // printing an array\n",
    "    for(int i = 0; i < 5; i++)\n",
    "    {\n",
    "        cout << B[i] << endl;\n",
    "    }\n",
    "    return 0;\n",
    "}\n",
    "```"
   ]
  }
 ],
 "metadata": {
  "kernelspec": {
   "display_name": "Python 3 (ipykernel)",
   "language": "python",
   "name": "python3"
  },
  "language_info": {
   "codemirror_mode": {
    "name": "ipython",
    "version": 3
   },
   "file_extension": ".py",
   "mimetype": "text/x-python",
   "name": "python",
   "nbconvert_exporter": "python",
   "pygments_lexer": "ipython3",
   "version": "3.10.0"
  }
 },
 "nbformat": 4,
 "nbformat_minor": 5
}

{
 "cells": [
  {
   "cell_type": "markdown",
   "id": "eedfe7cd",
   "metadata": {},
   "source": [
    "## Recursion\n",
    "\n",
    "- A function that calls itself\n",
    "- There must be a base condition to terminate recursion\n",
    "- If there are any statements before the recursive function is called, they are executed at calling time (ascending phase). The functions after recursive function call are executed at returning time (descending phase).\n",
    "- The advantage of recursion over loop is that a loop only has an ascending phase whereas recursion has both ascending and descending phase\n",
    "\n",
    "### Tail Recursion\n",
    "\n",
    "If a recursive function is calling itself and that call is the last statement in the function, then it's called as tail recursion. Tail recursions can be converted in form of a loop. Time taken is O(n). Space is O(n+1)\n",
    "\n",
    "### Head Recursion\n",
    "\n",
    "If a recursive function is calling itself and that call is the first statement in the function, then it's called as head recursion. \n",
    "\n",
    "### Tree Recursion\n",
    "\n",
    "If a function recursively calls itself more than once, then it's called as Tree Recursion\n",
    "\n",
    "#### Other types of recursion are\n",
    "- Indirect Recursion\n",
    "- Nested Recursion"
   ]
  }
 ],
 "metadata": {
  "kernelspec": {
   "display_name": "Python 3 (ipykernel)",
   "language": "python",
   "name": "python3"
  },
  "language_info": {
   "codemirror_mode": {
    "name": "ipython",
    "version": 3
   },
   "file_extension": ".py",
   "mimetype": "text/x-python",
   "name": "python",
   "nbconvert_exporter": "python",
   "pygments_lexer": "ipython3",
   "version": "3.9.12"
  }
 },
 "nbformat": 4,
 "nbformat_minor": 5
}
